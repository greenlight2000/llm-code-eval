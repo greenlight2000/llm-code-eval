{
 "cells": [
  {
   "cell_type": "code",
   "execution_count": 7,
   "metadata": {},
   "outputs": [],
   "source": [
    "from datasets import load_dataset"
   ]
  },
  {
   "cell_type": "code",
   "execution_count": 24,
   "metadata": {},
   "outputs": [
    {
     "data": {
      "text/plain": [
       "{'src_uid': '69850c2af99d60711bcff5870575e15e',\n",
       " 'lang': 'Python 3',\n",
       " 'mem_baseline_code_uid': 'c41d21fa63c9be73129130ce237dd44b',\n",
       " 'mem_baseline_code': 'import sys\\ndef main ():\\n    n = int(sys.stdin.readline().strip())\\n    lis = sys.stdin.readline().split()\\n    rango = sys.stdin.readline().split()\\n    c = 0\\n    for i in range (int(rango[0])-1,int(rango[1])-1):\\n        c += int(lis[i])\\n    sys.stdout.write(str(c))\\nmain()',\n",
       " 'time_baseline_code_uid': 'bb3debedc1546328423d6fbc6c2aa234',\n",
       " 'time_baseline_code': 'n=int(input())\\nx=list(map(int,input().split()))\\na,b=list(map(int,input().split()))\\n\\nc=0\\nfor i in range(n+1):\\n\\tif a!=b:\\n\\t\\tc+=x[a-1]\\n\\t\\ta+=1\\n\\telse:\\n\\t\\tprint(c)\\n\\t\\tbreak',\n",
       " 'task_description': 'The Berland Armed Forces System consists of n ranks that are numbered using natural numbers from 1 to n, where 1 is the lowest rank and n is the highest rank.One needs exactly di years to rise from rank i to rank i+1. Reaching a certain rank i having not reached all the previous i-1 ranks is impossible.Vasya has just reached a new rank of a, but he dreams of holding the rank of b. Find for how many more years Vasya should serve in the army until he can finally realize his dream.',\n",
       " 'testcases': [{'exec_outcome': 'PASSED',\n",
       "   'input': '3\\n5 6\\n1 2\\n',\n",
       "   'output': ['5\\n'],\n",
       "   'result': '5'},\n",
       "  {'exec_outcome': 'PASSED',\n",
       "   'input': '3\\n5 6\\n1 3\\n',\n",
       "   'output': ['11\\n'],\n",
       "   'result': '11'},\n",
       "  {'exec_outcome': 'PASSED',\n",
       "   'input': '2\\n55\\n1 2\\n',\n",
       "   'output': ['55\\n'],\n",
       "   'result': '55'},\n",
       "  {'exec_outcome': 'PASSED',\n",
       "   'input': '3\\n85 78\\n1 3\\n',\n",
       "   'output': ['163\\n'],\n",
       "   'result': '163'},\n",
       "  {'exec_outcome': 'PASSED',\n",
       "   'input': '4\\n63 4 49\\n2 3\\n',\n",
       "   'output': ['4\\n'],\n",
       "   'result': '4'},\n",
       "  {'exec_outcome': 'PASSED',\n",
       "   'input': '5\\n93 83 42 56\\n2 5\\n',\n",
       "   'output': ['181\\n'],\n",
       "   'result': '181'},\n",
       "  {'exec_outcome': 'PASSED',\n",
       "   'input': '6\\n22 9 87 89 57\\n1 6\\n',\n",
       "   'output': ['264\\n'],\n",
       "   'result': '264'},\n",
       "  {'exec_outcome': 'PASSED',\n",
       "   'input': '7\\n52 36 31 23 74 78\\n2 7\\n',\n",
       "   'output': ['242\\n'],\n",
       "   'result': '242'},\n",
       "  {'exec_outcome': 'PASSED',\n",
       "   'input': '8\\n82 14 24 5 91 49 94\\n3 8\\n',\n",
       "   'output': ['263\\n'],\n",
       "   'result': '263'},\n",
       "  {'exec_outcome': 'PASSED',\n",
       "   'input': '9\\n12 40 69 39 59 21 59 5\\n4 6\\n',\n",
       "   'output': ['98\\n'],\n",
       "   'result': '98'},\n",
       "  {'exec_outcome': 'PASSED',\n",
       "   'input': '10\\n95 81 32 59 71 30 50 61 100\\n1 6\\n',\n",
       "   'output': ['338\\n'],\n",
       "   'result': '338'},\n",
       "  {'exec_outcome': 'PASSED',\n",
       "   'input': '15\\n89 55 94 4 15 69 19 60 91 77 3 94 91 62\\n3 14\\n',\n",
       "   'output': ['617\\n'],\n",
       "   'result': '617'},\n",
       "  {'exec_outcome': 'PASSED',\n",
       "   'input': '20\\n91 1 41 51 95 67 92 35 23 70 44 91 57 50 21 8 9 71 40\\n8 17\\n',\n",
       "   'output': ['399\\n'],\n",
       "   'result': '399'},\n",
       "  {'exec_outcome': 'PASSED',\n",
       "   'input': '25\\n70 95 21 84 97 39 12 98 53 24 78 29 84 65 70 22 100 17 69 27 62 48 35 80\\n8 23\\n',\n",
       "   'output': ['846\\n'],\n",
       "   'result': '846'},\n",
       "  {'exec_outcome': 'PASSED',\n",
       "   'input': '30\\n35 69 50 44 19 56 86 56 98 24 21 2 61 24 85 30 2 22 57 35 59 84 12 77 92 53 50 92 9\\n1 16\\n',\n",
       "   'output': ['730\\n'],\n",
       "   'result': '730'},\n",
       "  {'exec_outcome': 'PASSED',\n",
       "   'input': '35\\n2 34 47 15 27 61 6 88 67 20 53 65 29 68 77 5 78 86 44 98 32 81 91 79 54 84 95 23 65 97 22 33 42 87\\n8 35\\n',\n",
       "   'output': ['1663\\n'],\n",
       "   'result': '1663'},\n",
       "  {'exec_outcome': 'PASSED',\n",
       "   'input': '40\\n32 88 59 36 95 45 28 78 73 30 97 13 13 47 48 100 43 21 22 45 88 25 15 13 63 25 72 92 29 5 25 11 50 5 54 51 48 84 23\\n7 26\\n',\n",
       "   'output': ['862\\n'],\n",
       "   'result': '862'},\n",
       "  {'exec_outcome': 'PASSED',\n",
       "   'input': '45\\n83 74 73 95 10 31 100 26 29 15 80 100 22 70 31 88 9 56 19 70 2 62 48 30 27 47 52 50 94 44 21 94 23 85 15 3 95 72 43 62 94 89 68 88\\n17 40\\n',\n",
       "   'output': ['1061\\n'],\n",
       "   'result': '1061'},\n",
       "  {'exec_outcome': 'PASSED',\n",
       "   'input': '50\\n28 8 16 29 19 82 70 51 96 84 74 72 17 69 12 21 37 21 39 3 18 66 19 49 86 96 94 93 2 90 96 84 59 88 58 15 61 33 55 22 35 54 51 29 64 68 29 38 40\\n23 28\\n',\n",
       "   'output': ['344\\n'],\n",
       "   'result': '344'},\n",
       "  {'exec_outcome': 'PASSED',\n",
       "   'input': '60\\n24 28 25 21 43 71 64 73 71 90 51 83 69 43 75 43 78 72 56 61 99 7 23 86 9 16 16 94 23 74 18 56 20 72 13 31 75 34 35 86 61 49 4 72 84 7 65 70 66 52 21 38 6 43 69 40 73 46 5\\n28 60\\n',\n",
       "   'output': ['1502\\n'],\n",
       "   'result': '1502'},\n",
       "  {'exec_outcome': 'PASSED',\n",
       "   'input': '70\\n69 95 34 14 67 61 6 95 94 44 28 94 73 66 39 13 19 71 73 71 28 48 26 22 32 88 38 95 43 59 88 77 80 55 17 95 40 83 67 1 38 95 58 63 56 98 49 2 41 4 73 8 78 41 64 71 60 71 41 61 67 4 4 19 97 14 39 20 27\\n9 41\\n',\n",
       "   'output': ['1767\\n'],\n",
       "   'result': '1767'},\n",
       "  {'exec_outcome': 'PASSED',\n",
       "   'input': '80\\n65 15 43 6 43 98 100 16 69 98 4 54 25 40 2 35 12 23 38 29 10 89 30 6 4 8 7 96 64 43 11 49 89 38 20 59 54 85 46 16 16 89 60 54 28 37 32 34 67 9 78 30 50 87 58 53 99 48 77 3 5 6 19 99 16 20 31 10 80 76 82 56 56 83 72 81 84 60 28\\n18 24\\n',\n",
       "   'output': ['219\\n'],\n",
       "   'result': '219'},\n",
       "  {'exec_outcome': 'PASSED',\n",
       "   'input': '90\\n61 35 100 99 67 87 42 90 44 4 81 65 29 63 66 56 53 22 55 87 39 30 34 42 27 80 29 97 85 28 81 22 50 22 24 75 67 86 78 79 94 35 13 97 48 76 68 66 94 13 82 1 22 85 5 36 86 73 65 97 43 56 35 26 87 25 74 47 81 67 73 75 99 75 53 38 70 21 66 78 38 17 57 40 93 57 68 55 1\\n12 44\\n',\n",
       "   'output': ['1713\\n'],\n",
       "   'result': '1713'},\n",
       "  {'exec_outcome': 'PASSED',\n",
       "   'input': '95\\n37 74 53 96 65 84 65 72 95 45 6 77 91 35 58 50 51 51 97 30 51 20 79 81 92 10 89 34 40 76 71 54 26 34 73 72 72 28 53 19 95 64 97 10 44 15 12 38 5 63 96 95 86 8 36 96 45 53 81 5 18 18 47 97 65 9 33 53 41 86 37 53 5 40 15 76 83 45 33 18 26 5 19 90 46 40 100 42 10 90 13 81 40 53\\n6 15\\n',\n",
       "   'output': ['570\\n'],\n",
       "   'result': '570'},\n",
       "  {'exec_outcome': 'PASSED',\n",
       "   'input': '96\\n51 32 95 75 23 54 70 89 67 3 1 51 4 100 97 30 9 35 56 38 54 77 56 98 43 17 60 43 72 46 87 61 100 65 81 22 74 38 16 96 5 10 54 22 23 22 10 91 9 54 49 82 29 73 33 98 75 8 4 26 24 90 71 42 90 24 94 74 94 10 41 98 56 63 18 43 56 21 26 64 74 33 22 38 67 66 38 60 64 76 53 10 4 65 76\\n21 26\\n',\n",
       "   'output': ['328\\n'],\n",
       "   'result': '328'},\n",
       "  {'exec_outcome': 'PASSED',\n",
       "   'input': '97\\n18 90 84 7 33 24 75 55 86 10 96 72 16 64 37 9 19 71 62 97 5 34 85 15 46 72 82 51 52 16 55 68 27 97 42 72 76 97 32 73 14 56 11 86 2 81 59 95 60 93 1 22 71 37 77 100 6 16 78 47 78 62 94 86 16 91 56 46 47 35 93 44 7 86 70 10 29 45 67 62 71 61 74 39 36 92 24 26 65 14 93 92 15 28 79 59\\n6 68\\n',\n",
       "   'output': ['3385\\n'],\n",
       "   'result': '3385'},\n",
       "  {'exec_outcome': 'PASSED',\n",
       "   'input': '98\\n32 47 26 86 43 42 79 72 6 68 40 46 29 80 24 89 29 7 21 56 8 92 13 33 50 79 5 7 84 85 24 23 1 80 51 21 26 55 96 51 24 2 68 98 81 88 57 100 64 84 54 10 14 2 74 1 89 71 1 20 84 85 17 31 42 58 69 67 48 60 97 90 58 10 21 29 2 21 60 61 68 89 77 39 57 18 61 44 67 100 33 74 27 40 83 29 6\\n8 77\\n',\n",
       "   'output': ['3319\\n'],\n",
       "   'result': '3319'},\n",
       "  {'exec_outcome': 'PASSED',\n",
       "   'input': '99\\n46 5 16 66 53 12 84 89 26 27 35 68 41 44 63 17 88 43 80 15 59 1 42 50 53 34 75 16 16 55 92 30 28 11 12 71 27 65 11 28 86 47 24 10 60 47 7 53 16 75 6 49 56 66 70 3 20 78 75 41 38 57 89 23 16 74 30 39 1 32 49 84 9 33 25 95 75 45 54 59 17 17 29 40 79 96 47 11 69 86 73 56 91 4 87 47 31 24\\n23 36\\n',\n",
       "   'output': ['514\\n'],\n",
       "   'result': '514'},\n",
       "  {'exec_outcome': 'PASSED',\n",
       "   'input': '100\\n63 65 21 41 95 23 3 4 12 23 95 50 75 63 58 34 71 27 75 31 23 94 96 74 69 34 43 25 25 55 44 19 43 86 68 17 52 65 36 29 72 96 84 25 84 23 71 54 6 7 71 7 21 100 99 58 93 35 62 47 36 70 68 9 75 13 35 70 76 36 62 22 52 51 2 87 66 41 54 35 78 62 30 35 65 44 74 93 78 37 96 70 26 32 71 27 85 85 63\\n43 92\\n',\n",
       "   'output': ['2599\\n'],\n",
       "   'result': '2599'},\n",
       "  {'exec_outcome': 'PASSED',\n",
       "   'input': '51\\n85 38 22 38 42 36 55 24 36 80 49 15 66 91 88 61 46 82 1 61 89 92 6 56 28 8 46 80 56 90 91 38 38 17 69 64 57 68 13 44 45 38 8 72 61 39 87 2 73 88\\n15 27\\n',\n",
       "   'output': ['618\\n'],\n",
       "   'result': '618'},\n",
       "  {'exec_outcome': 'PASSED',\n",
       "   'input': '2\\n3\\n1 2\\n',\n",
       "   'output': ['3\\n'],\n",
       "   'result': '3'},\n",
       "  {'exec_outcome': 'PASSED',\n",
       "   'input': '5\\n6 8 22 22\\n2 3\\n',\n",
       "   'output': ['8\\n'],\n",
       "   'result': '8'},\n",
       "  {'exec_outcome': 'PASSED',\n",
       "   'input': '6\\n3 12 27 28 28\\n3 4\\n',\n",
       "   'output': ['27\\n'],\n",
       "   'result': '27'},\n",
       "  {'exec_outcome': 'PASSED',\n",
       "   'input': '9\\n1 2 2 2 2 3 3 5\\n3 7\\n',\n",
       "   'output': ['9\\n'],\n",
       "   'result': '9'},\n",
       "  {'exec_outcome': 'PASSED',\n",
       "   'input': '10\\n1 1 1 1 1 1 1 1 1\\n6 8\\n',\n",
       "   'output': ['2\\n'],\n",
       "   'result': '2'},\n",
       "  {'exec_outcome': 'PASSED',\n",
       "   'input': '20\\n1 1 1 1 1 1 1 1 2 2 2 2 2 3 3 3 3 3 3\\n5 17\\n',\n",
       "   'output': ['23\\n'],\n",
       "   'result': '23'},\n",
       "  {'exec_outcome': 'PASSED',\n",
       "   'input': '25\\n1 1 1 4 5 6 8 11 11 11 11 12 13 14 14 14 15 16 16 17 17 17 19 19\\n4 8\\n',\n",
       "   'output': ['23\\n'],\n",
       "   'result': '23'},\n",
       "  {'exec_outcome': 'PASSED',\n",
       "   'input': '35\\n1 1 1 1 1 1 1 1 1 1 1 1 1 1 1 1 1 1 1 2 2 2 2 2 2 2 2 2 2 2 2 2 2 2\\n30 31\\n',\n",
       "   'output': ['2\\n'],\n",
       "   'result': '2'},\n",
       "  {'exec_outcome': 'PASSED',\n",
       "   'input': '45\\n1 1 1 1 2 2 2 2 2 2 2 3 3 3 3 3 3 4 5 5 5 5 6 6 6 6 6 6 6 7 7 7 7 8 8 8 9 9 9 9 9 10 10 10\\n42 45\\n',\n",
       "   'output': ['30\\n'],\n",
       "   'result': '30'},\n",
       "  {'exec_outcome': 'PASSED',\n",
       "   'input': '50\\n1 8 8 13 14 15 15 16 19 21 22 24 26 31 32 37 45 47 47 47 50 50 51 54 55 56 58 61 61 61 63 63 64 66 66 67 67 70 71 80 83 84 85 92 92 94 95 95 100\\n4 17\\n',\n",
       "   'output': ['285\\n'],\n",
       "   'result': '285'},\n",
       "  {'exec_outcome': 'PASSED',\n",
       "   'input': '60\\n1 2 4 4 4 6 6 8 9 10 10 13 14 18 20 20 21 22 23 23 26 29 30 32 33 34 35 38 40 42 44 44 46 48 52 54 56 56 60 60 66 67 68 68 69 73 73 74 80 80 81 81 82 84 86 86 87 89 89\\n56 58\\n',\n",
       "   'output': ['173\\n'],\n",
       "   'result': '173'},\n",
       "  {'exec_outcome': 'PASSED',\n",
       "   'input': '70\\n1 2 3 3 4 5 5 7 7 7 8 8 8 8 9 9 10 12 12 12 12 13 16 16 16 16 16 16 17 17 18 18 20 20 21 23 24 25 25 26 29 29 29 29 31 32 32 34 35 36 36 37 37 38 39 39 40 40 40 40 41 41 42 43 44 44 44 45 45\\n62 65\\n',\n",
       "   'output': ['126\\n'],\n",
       "   'result': '126'},\n",
       "  {'exec_outcome': 'PASSED',\n",
       "   'input': '80\\n1 1 1 1 1 1 1 1 2 2 2 2 2 2 3 3 3 3 3 3 3 3 3 3 4 4 4 4 5 5 5 5 5 5 5 6 7 7 7 7 7 7 8 8 8 8 9 9 9 9 9 9 9 9 9 10 10 10 10 10 10 10 10 10 11 11 11 11 11 11 11 12 12 12 12 12 12 12 12\\n17 65\\n',\n",
       "   'output': ['326\\n'],\n",
       "   'result': '326'},\n",
       "  {'exec_outcome': 'PASSED',\n",
       "   'input': '90\\n1 1 3 5 8 9 10 11 11 11 11 12 13 14 15 15 15 16 16 19 19 20 22 23 24 25 25 28 29 29 30 31 33 34 35 37 37 38 41 43 43 44 45 47 51 54 55 56 58 58 59 59 60 62 66 67 67 67 68 68 69 70 71 72 73 73 76 77 77 78 78 78 79 79 79 82 83 84 85 85 87 87 89 93 93 93 95 99 99\\n28 48\\n',\n",
       "   'output': ['784\\n'],\n",
       "   'result': '784'},\n",
       "  {'exec_outcome': 'PASSED',\n",
       "   'input': '95\\n2 2 3 3 4 6 6 7 7 7 9 10 12 12 12 12 13 14 15 16 17 18 20 20 20 20 21 21 21 21 22 22 22 22 22 23 23 23 25 26 26 27 27 27 28 29 29 30 30 31 32 33 34 36 37 37 38 39 39 39 42 43 43 43 45 47 48 50 50 51 52 53 54 54 54 55 55 55 58 59 60 61 61 61 61 62 62 63 64 65 66 67 67 67\\n64 93\\n',\n",
       "   'output': ['1636\\n'],\n",
       "   'result': '1636'},\n",
       "  {'exec_outcome': 'PASSED',\n",
       "   'input': '96\\n1 1 2 3 3 5 8 9 9 10 10 10 11 11 11 11 11 12 13 13 13 14 15 15 16 16 17 17 17 17 18 18 20 20 20 21 21 21 23 24 24 25 25 26 27 27 27 27 29 29 29 30 30 30 32 32 32 32 32 32 33 33 34 34 34 35 35 35 36 36 37 37 37 38 39 40 41 41 41 41 42 42 43 43 45 45 45 46 46 47 47 49 50 52 52\\n76 96\\n',\n",
       "   'output': ['898\\n'],\n",
       "   'result': '898'},\n",
       "  {'exec_outcome': 'PASSED',\n",
       "   'input': '98\\n2 3 4 4 5 7 8 10 10 10 11 11 12 12 12 12 13 14 15 15 16 16 18 19 19 20 21 21 21 21 22 23 24 25 26 26 27 27 27 27 29 29 30 30 31 31 37 40 40 40 41 41 41 42 43 44 44 44 46 46 47 49 49 50 50 50 51 53 55 55 56 56 56 56 56 57 57 58 59 60 60 60 62 62 63 64 64 64 65 66 66 67 68 70 70 71 71\\n8 90\\n',\n",
       "   'output': ['3016\\n'],\n",
       "   'result': '3016'},\n",
       "  {'exec_outcome': 'PASSED',\n",
       "   'input': '99\\n1 1 1 1 1 1 1 1 1 1 1 1 1 1 1 1 1 1 1 1 1 1 1 1 1 1 1 1 1 1 1 1 1 1 1 1 1 1 1 1 1 1 1 1 1 1 1 1 1 1 1 1 1 1 1 1 1 1 1 1 1 1 1 1 1 1 1 1 1 1 1 1 1 1 1 1 1 1 1 1 1 1 1 1 1 1 1 1 1 1 1 1 1 1 1 1 1 1\\n66 95\\n',\n",
       "   'output': ['29\\n'],\n",
       "   'result': '29'},\n",
       "  {'exec_outcome': 'PASSED',\n",
       "   'input': '100\\n1 1 1 1 1 1 1 1 2 2 2 2 2 2 2 2 3 3 3 4 4 4 4 4 4 4 4 4 4 5 5 5 5 5 5 6 6 6 6 6 6 6 6 6 6 6 6 7 7 7 7 7 7 8 8 8 8 9 9 9 9 10 10 10 10 11 11 11 11 12 12 12 13 13 13 13 13 13 13 13 13 13 14 14 14 14 14 14 15 15 15 15 15 15 16 16 16 17 17\\n39 52\\n',\n",
       "   'output': ['82\\n'],\n",
       "   'result': '82'},\n",
       "  {'exec_outcome': 'PASSED',\n",
       "   'input': '51\\n5 7 9 16 19 25 26 29 29 30 31 32 32 41 43 44 47 49 50 50 51 52 54 55 56 63 64 66 67 70 74 74 77 78 79 80 80 85 86 87 89 89 90 92 93 94 94 95 95 97\\n3 44\\n',\n",
       "   'output': ['2268\\n'],\n",
       "   'result': '2268'}]}"
      ]
     },
     "execution_count": 24,
     "metadata": {},
     "output_type": "execute_result"
    }
   ],
   "source": [
    "load_dataset(\"json\", data_files=\"./code_optimization_data.jsonl\", split=\"train\")[0]"
   ]
  },
  {
   "cell_type": "code",
   "execution_count": 21,
   "metadata": {},
   "outputs": [
    {
     "data": {
      "text/plain": [
       "Dataset({\n",
       "    features: ['src_uid', 'lang', 'mem_baseline_code_uid', 'mem_baseline_code', 'time_baseline_code_uid', 'time_baseline_code', 'task_description', 'testcases'],\n",
       "    num_rows: 121\n",
       "})"
      ]
     },
     "execution_count": 21,
     "metadata": {},
     "output_type": "execute_result"
    }
   ],
   "source": [
    "# 删除'time_baseline_perf'和'mem_baseline_perf'两列\n",
    "ds = load_dataset(\"json\", data_files=\"./code_opt_dataset.jsonl\", split=\"train\")\n",
    "ds = ds.remove_columns(['time_baseline_perf', 'mem_baseline_perf'])\n",
    "ds\n",
    "# ds.to_json(\"/Users/wangyunkun/School/CodeLLMEval/llm-code-eval/data/code_optimization_data.jsonl\", lines=True)"
   ]
  },
  {
   "cell_type": "code",
   "execution_count": 22,
   "metadata": {},
   "outputs": [],
   "source": [
    "import json\n",
    "with open(\"./code_optimization_data.jsonl\", \"w\") as f:\n",
    "    for d in ds:\n",
    "        f.write(json.dumps(d))\n",
    "        f.write(\"\\n\")\n"
   ]
  },
  {
   "cell_type": "code",
   "execution_count": 27,
   "metadata": {},
   "outputs": [],
   "source": [
    "ds = load_dataset(\"json\", data_files=\"./code_summarization_data.jsonl\", split=\"train\")\n",
    "ds = ds.remove_columns(['explain', 'task_cat'])\n",
    "import json\n",
    "with open(\"./code_sumarization_dataset.jsonl\", \"w\") as f:\n",
    "    for d in ds:\n",
    "        f.write(json.dumps(d))\n",
    "        f.write(\"\\n\")"
   ]
  },
  {
   "cell_type": "code",
   "execution_count": 30,
   "metadata": {},
   "outputs": [
    {
     "data": {
      "text/plain": [
       "Dataset({\n",
       "    features: ['lang', 'task_name', 'task_url', 'code', 'LOC', 'code_sum_groundtruth'],\n",
       "    num_rows: 4841\n",
       "})"
      ]
     },
     "execution_count": 30,
     "metadata": {},
     "output_type": "execute_result"
    }
   ],
   "source": [
    "ds = load_dataset(\"json\", data_files=\"./code_sumarization_dataset.jsonl\", split=\"train\")\n",
    "ds"
   ]
  },
  {
   "cell_type": "code",
   "execution_count": 31,
   "metadata": {},
   "outputs": [
    {
     "data": {
      "text/plain": [
       "{'lang': 'Ada',\n",
       " 'task_name': 'Stack',\n",
       " 'task_url': 'https://rosettacode.org/wiki/Stack',\n",
       " 'code': '\\n\\ngeneric\\n   type Element_Type is private; \\npackage Generic_Stack is\\n   type Stack is private; \\n   procedure Push (Item : Element_Type; Onto : in out Stack); \\n   procedure Pop (Item : out Element_Type; From : in out Stack); \\n   function Create return Stack;\\n   Stack_Empty_Error : exception;\\nprivate\\n   type Node; \\n   type Stack is access Node; \\n   type Node is record \\n      Element : Element_Type;  \\n      Next    : Stack        := null;  \\n   end record; \\nend Generic_Stack;\\n\\nwith Ada.Unchecked_Deallocation;\\n\\npackage body Generic_Stack is\\n   \\n   ------------\\n   -- Create --\\n   ------------\\n   \\n   function Create return Stack is\\n   begin\\n      return (null);\\n   end Create;\\n\\n   ----------\\n   -- Push --\\n   ----------\\n\\n   procedure Push(Item : Element_Type; Onto : in out Stack) is\\n      Temp : Stack := new Node;\\n   begin\\n      Temp.Element := Item;\\n      Temp.Next := Onto;\\n      Onto := Temp; \\n   end Push;\\n\\n   ---------\\n   -- Pop --\\n   ---------\\n\\n   procedure Pop(Item : out Element_Type; From : in out Stack) is\\n      procedure Free is new Ada.Unchecked_Deallocation(Node, Stack);\\n      Temp : Stack := From;\\n   begin\\n      if Temp = null then\\n         raise Stack_Empty_Error;\\n      end if;\\n      Item := Temp.Element;\\n      From := Temp.Next;\\n      Free(Temp);\\n   end Pop;\\n\\nend Generic_Stack;\\n\\n',\n",
       " 'LOC': 52,\n",
       " 'code_sum_groundtruth': 'implement a generic stack with basic operations including push (adding a new element to the top of the stack), pop (removing and returning the last pushed element from the stack), and empty (checking if the stack contains no elements). The stack follows a last in, first out (LIFO) access policy.'}"
      ]
     },
     "execution_count": 31,
     "metadata": {},
     "output_type": "execute_result"
    }
   ],
   "source": [
    "ds[0]"
   ]
  },
  {
   "cell_type": "code",
   "execution_count": null,
   "metadata": {},
   "outputs": [],
   "source": []
  }
 ],
 "metadata": {
  "kernelspec": {
   "display_name": "LLM",
   "language": "python",
   "name": "python3"
  },
  "language_info": {
   "codemirror_mode": {
    "name": "ipython",
    "version": 3
   },
   "file_extension": ".py",
   "mimetype": "text/x-python",
   "name": "python",
   "nbconvert_exporter": "python",
   "pygments_lexer": "ipython3",
   "version": "3.11.4"
  }
 },
 "nbformat": 4,
 "nbformat_minor": 2
}
